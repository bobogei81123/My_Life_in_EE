{
 "cells": [
  {
   "cell_type": "code",
   "execution_count": 1,
   "metadata": {
    "collapsed": true
   },
   "outputs": [],
   "source": [
    "from pyexcel_xls import get_data\n",
    "from math import sqrt\n",
    "data = get_data('data.xls')['Sheet1']\n",
    "rdata = data[5:]\n",
    "freqmap = {int(r[0]): (*r[1:4],) for r in rdata}"
   ]
  },
  {
   "cell_type": "code",
   "execution_count": 2,
   "metadata": {
    "collapsed": false
   },
   "outputs": [],
   "source": [
    "xymap = {x: (y[0]/sum(y), y[1]/sum(y)) for x, y in freqmap.items()}"
   ]
  },
  {
   "cell_type": "code",
   "execution_count": 3,
   "metadata": {
    "collapsed": false,
    "scrolled": false
   },
   "outputs": [],
   "source": [
    "W = (1/3, 1/3)\n",
    "v480 = xymap[480]"
   ]
  },
  {
   "cell_type": "code",
   "execution_count": 4,
   "metadata": {
    "collapsed": true
   },
   "outputs": [],
   "source": [
    "def angle(freq):\n",
    "    v1 = tuple(a-b for a, b in zip(v480, W))\n",
    "    s1 = sqrt(v1[0]**2 + v1[1]**2)\n",
    "    v2 = tuple(a-b for a, b in zip(xymap[freq], W))\n",
    "    s2 = sqrt(v2[0]**2 + v2[1]**2)\n",
    "    dot = v1[0]*v2[0] + v1[1]*v2[1]\n",
    "    return dot / s1 / s2"
   ]
  },
  {
   "cell_type": "code",
   "execution_count": 5,
   "metadata": {
    "collapsed": false
   },
   "outputs": [],
   "source": [
    "bs, bfreq = 1.0, 480"
   ]
  },
  {
   "cell_type": "code",
   "execution_count": 6,
   "metadata": {
    "collapsed": false
   },
   "outputs": [],
   "source": [
    "for f in freqmap:\n",
    "    t = angle(f)\n",
    "    if t < bs:\n",
    "        bs, bfreq = t, f"
   ]
  },
  {
   "cell_type": "code",
   "execution_count": 7,
   "metadata": {
    "collapsed": false
   },
   "outputs": [
    {
     "data": {
      "text/plain": [
       "'best freq. = 580, cos(theta) = -0.999879'"
      ]
     },
     "execution_count": 7,
     "metadata": {},
     "output_type": "execute_result"
    }
   ],
   "source": [
    "'best freq. = %d, cos(theta) = %.6f' % (bfreq, bs)"
   ]
  }
 ],
 "metadata": {
  "kernelspec": {
   "display_name": "Python 3",
   "language": "python",
   "name": "python3"
  },
  "language_info": {
   "codemirror_mode": {
    "name": "ipython",
    "version": 3
   },
   "file_extension": ".py",
   "mimetype": "text/x-python",
   "name": "python",
   "nbconvert_exporter": "python",
   "pygments_lexer": "ipython3",
   "version": "3.5.1"
  }
 },
 "nbformat": 4,
 "nbformat_minor": 0
}
